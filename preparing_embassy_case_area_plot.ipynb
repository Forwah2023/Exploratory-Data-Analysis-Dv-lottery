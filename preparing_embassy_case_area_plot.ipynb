{
 "cells": [
  {
   "cell_type": "code",
   "execution_count": 1,
   "id": "c2e8cdf3-96b4-4a81-a998-3bb5247bb3b5",
   "metadata": {},
   "outputs": [],
   "source": [
    "import pandas as pd\n",
    "import numpy as np           \n",
    "import plotly.express as px\n",
    "import os"
   ]
  },
  {
   "cell_type": "code",
   "execution_count": 2,
   "id": "5885817c-6ada-46cb-950f-d9212050af1c",
   "metadata": {},
   "outputs": [],
   "source": [
    "# Temporary storage for grouped objects by year\n",
    "groups=[]\n",
    "# Temporary storage for grouped objects by regions\n",
    "subgroups_reg=[]\n",
    "# Temporary storage for grouped objects by embassies\n",
    "subgroups_emb=[]\n",
    "# function to count real cases\n",
    "def cases(s):\n",
    "    return sum(s>=1)\n",
    "\n",
    "# function to count holes\n",
    "def holes(s):\n",
    "    return sum(s.isna())\n",
    "# Aggregation dictionary for area plot totals. Excluded ,'InTransit':[cases],'Transfer':[cases],\n",
    "agg_dict = {'status':[holes],            \n",
    "            'Issued':[cases],\n",
    "            'Refused':[cases],\n",
    "            'Refused221g':[cases],\n",
    "            'Ready':[cases],\n",
    "            'NVC':[cases],\n",
    "            'AP':[cases],\n",
    "           }\n",
    "#Restructure dataframe\n",
    "def restructure_df(df):\n",
    "    df.reset_index(inplace=True)\n",
    "    df.columns=['year','region','consulate','Case_ranges','Hole_C','Iss_C','Ref_C','221g_C','Rdy_C','NVC_C','AP_C']\n",
    "    return df"
   ]
  },
  {
   "cell_type": "code",
   "execution_count": null,
   "id": "e87e26fd-4542-45f2-b3ef-9294d233b3d3",
   "metadata": {},
   "outputs": [],
   "source": [
    "#Loop through cleaned pkl files, group case numbers by region, and group by year, aggregating at each intermediary stage\n",
    "for entry in os.scandir(\"ceac_pkl\"):\n",
    "    if entry.name.endswith('.pkl') and not entry.name.startswith('.') and entry.is_file():\n",
    "        ceac=pd.read_pickle(entry.path)\n",
    "        ceac.insert(0,'year',entry.name[-8:-4])\n",
    "        region_list=ceac['region'].dropna().unique()\n",
    "        for region in region_list:\n",
    "            in_region=ceac['region']==region\n",
    "            sub_ceac_reg=ceac[in_region]\n",
    "            #get embassy list\n",
    "            emb_list=sub_ceac_reg['consulate'].dropna().unique()\n",
    "            #loop over embassies\n",
    "            for emb in emb_list:\n",
    "                in_emb=sub_ceac_reg['consulate']==emb\n",
    "                sub_ceac_emb=sub_ceac_reg[in_emb]\n",
    "                # select and cut case numbers into bins\n",
    "                case_num=sub_ceac_emb['caseNumber']\n",
    "                maxcase_emb=round(case_num.max(),-3)\n",
    "                num_bins_emb=round(maxcase_emb/1000)\n",
    "                if num_bins_emb<1:\n",
    "                    num_bins_emb=1\n",
    "                case_ranges_emb=pd.cut(case_num,num_bins_emb,precision=0)\n",
    "                sub_ceac_emb.insert(1,'Case_ranges',case_ranges_emb)\n",
    "                subgroups_emb.append(sub_ceac_emb)\n",
    "            #append all embassies for a given region\n",
    "            subgroups_emb_concat=pd.concat(subgroups_emb)\n",
    "            #add the appended emabssies to a region list\n",
    "            subgroups_reg.append(subgroups_emb_concat)\n",
    "        #append all regions\n",
    "        subgroups_reg_concat=pd.concat(subgroups_reg)\n",
    "        grouped=subgroups_reg_concat.groupby(['year','region','consulate','Case_ranges'],observed=True).agg(agg_dict)\n",
    "        grouped.dropna(inplace=True)\n",
    "        groups.append(restructure_df(grouped))"
   ]
  },
  {
   "cell_type": "code",
   "execution_count": null,
   "id": "fcc5f759-ba5e-49da-931d-a96d0063a30a",
   "metadata": {},
   "outputs": [],
   "source": [
    "# Check sample,\n",
    "groups[-1]"
   ]
  },
  {
   "cell_type": "code",
   "execution_count": null,
   "id": "0ea69add-90b1-4384-be4f-e2d6db0bf27e",
   "metadata": {},
   "outputs": [],
   "source": [
    "#Concatenate all the years\n",
    "ceac_concat=pd.concat(groups)\n",
    "ceac_concat.head(10)"
   ]
  },
  {
   "cell_type": "code",
   "execution_count": null,
   "id": "355f29c1-b7b5-4ca3-88f1-dfa2c3976b61",
   "metadata": {},
   "outputs": [],
   "source": [
    "#change Casee_ranges to str for plotting\n",
    "ceac_concat['Case_ranges']=ceac_concat['Case_ranges'].astype('str') "
   ]
  },
  {
   "cell_type": "code",
   "execution_count": null,
   "id": "4ce95263-5954-424a-a018-a81ba59cd6ea",
   "metadata": {},
   "outputs": [],
   "source": [
    "#Select embassy and year, and plot data\n",
    "in_year_and_region_and_emb=(ceac_concat['year']==\"2024\") & (ceac_concat['region']==\"AF\")& (ceac_concat['consulate']==\"ACC\")\n",
    "area_data=ceac_concat[in_year_and_region_and_emb]\n",
    "area_data"
   ]
  },
  {
   "cell_type": "code",
   "execution_count": null,
   "id": "bd6f114f-6055-46e5-a69b-62ce7d626655",
   "metadata": {},
   "outputs": [],
   "source": [
    "fig_area_emb=px.area(area_data, x=area_data.Case_ranges, y=area_data.columns[4:-1])\n",
    "fig_area_emb.show()"
   ]
  },
  {
   "cell_type": "code",
   "execution_count": null,
   "id": "10435c1a-e27c-4cb3-af78-42a2af77a24f",
   "metadata": {},
   "outputs": [],
   "source": [
    "#save to pickle\n",
    "directory='ceac_pkl/aggregations/'\n",
    "if not os.path.exists(directory):\n",
    "    os.makedirs(directory)\n",
    "    ceac_concat.to_pickle(directory+'consulate_case_ranges_input.pkl')\n",
    "else:\n",
    "    ceac_concat.to_pickle(directory+'consulate_case_ranges_input.pkl')"
   ]
  }
 ],
 "metadata": {
  "kernelspec": {
   "display_name": "Python 3 (ipykernel)",
   "language": "python",
   "name": "python3"
  },
  "language_info": {
   "codemirror_mode": {
    "name": "ipython",
    "version": 3
   },
   "file_extension": ".py",
   "mimetype": "text/x-python",
   "name": "python",
   "nbconvert_exporter": "python",
   "pygments_lexer": "ipython3",
   "version": "3.12.3"
  }
 },
 "nbformat": 4,
 "nbformat_minor": 5
}
